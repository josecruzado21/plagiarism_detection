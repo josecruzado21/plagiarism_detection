{
 "cells": [
  {
   "cell_type": "markdown",
   "id": "american-vitamin",
   "metadata": {},
   "source": [
    "# Plagiarism Detection"
   ]
  },
  {
   "cell_type": "markdown",
   "id": "olive-mauritius",
   "metadata": {},
   "source": [
    "Plagiarism is an increasing problem for education institutions and there are some tools to help in its detection. However testing its effectiveness is a challenge when there is no access to reliable data.\n",
    "\n",
    "The task of building tools to detect plagiarised work is not straightforward due to the problems of obtaining real examples of plagiarised text. As stated by Clough and Stevenson (2011), among the problems that hamper obtaining reliable plagiarism labelled data are: that plagiarised text is not intended to be identified and plagiarists are very unlikely to admit their act; and that even if a plagiarised text is detected, because of legally and ethics issues, it may not be freely available."
   ]
  },
  {
   "cell_type": "markdown",
   "id": "certified-amsterdam",
   "metadata": {},
   "source": [
    "## Containment Calculation\n",
    "\n",
    "¿What is containment?\n",
    "\n",
    "It is a measure of text similarity proposed by Andrei Broder in his paper \"On the resemblance and containment of documents\".\n",
    "The containment $c(A,B)$ of two documents A and B is a number between 0 and 1 that contains the proportion of A's unique n-grams that are also in B.\n",
    "Formally, containment is:\n",
    "\\begin{align}\n",
    "C_n(A,B)=\\frac{|S(A,n)\\:\\cap\\:S(B,n)|}{|S(A,n)|}\n",
    "\\end{align}\n",
    "\n",
    "Where $S(A,n)$ represent the set of n-grams for document A\n",
    "\n",
    "The numerator represent the intersection of unique n-grams between document A and document B. The denominator equals the number of unique n-grams in document A.\n",
    "\n",
    "Let's see below and example a containment calculation"
   ]
  },
  {
   "cell_type": "code",
   "execution_count": 1,
   "id": "established-freight",
   "metadata": {},
   "outputs": [],
   "source": [
    "import numpy as np\n",
    "import sklearn\n",
    "#text examples\n",
    "text_1=\"This is a small text to try containment calculation\"\n",
    "text_2=\"This is another text to try containment calculation but longer\""
   ]
  },
  {
   "cell_type": "markdown",
   "id": "anticipated-approval",
   "metadata": {},
   "source": [
    "We first need to count the ocurrences of n-grams in our data. For that purpose, we should use the CountVectorized tool contained in the sklearn package. This tool takes as input the size of n-grams we want to obtain and whether the feature should be made of word or character n-gram"
   ]
  },
  {
   "cell_type": "code",
   "execution_count": 2,
   "id": "unexpected-childhood",
   "metadata": {},
   "outputs": [
    {
     "name": "stdout",
     "output_type": "stream",
     "text": [
      "{'this': 8, 'is': 4, 'small': 6, 'text': 7, 'to': 9, 'try': 10, 'containment': 3, 'calculation': 2, 'another': 0, 'but': 1, 'longer': 5}\n"
     ]
    }
   ],
   "source": [
    "from sklearn.feature_extraction.text import CountVectorizer\n",
    "#Example of CountVectorizer vocabulary of n=1\n",
    "n_size=1\n",
    "cv=CountVectorizer(analyzer='word',ngram_range=(n_size,n_size))\n",
    "vocabulary=cv.fit([text_1,text_2]).vocabulary_\n",
    "print(vocabulary)"
   ]
  },
  {
   "cell_type": "code",
   "execution_count": 3,
   "id": "instrumental-patrol",
   "metadata": {},
   "outputs": [
    {
     "name": "stdout",
     "output_type": "stream",
     "text": [
      "{'this': 8, 'is': 4, 'small': 6, 'text': 7, 'to': 9, 'try': 10, 'containment': 3, 'calculation': 2, 'another': 0, 'but': 1, 'longer': 5}\n"
     ]
    }
   ],
   "source": [
    "#Example of CountVectorizer vocabulary with n=2\n",
    "n_size=1\n",
    "cv2=CountVectorizer(analyzer='word',ngram_range=(n_size,n_size))\n",
    "print(cv2.fit([text_1,text_2]).vocabulary_)"
   ]
  },
  {
   "cell_type": "markdown",
   "id": "expensive-queens",
   "metadata": {},
   "source": [
    "As we can wee, the countvectorizer vocabulary outputs a mapping (dictionary) where the keys are the n-grams and the values are the indices in the feature matrix. The words in the feature matrix are alphabetically ordered."
   ]
  },
  {
   "cell_type": "code",
   "execution_count": 4,
   "id": "complete-weapon",
   "metadata": {},
   "outputs": [],
   "source": [
    "#Now let's define a function to calculate containment\n",
    "def containment_calculation(array):\n",
    "    vocab_size=sum(array[0])\n",
    "    containment=sum(array[0]==array[1])/vocab_size\n",
    "    return containment    "
   ]
  },
  {
   "cell_type": "code",
   "execution_count": 5,
   "id": "temporal-holocaust",
   "metadata": {},
   "outputs": [
    {
     "data": {
      "text/plain": [
       "array([[0, 0, 1, 1, 1, 0, 1, 1, 1, 1, 1],\n",
       "       [1, 1, 1, 1, 1, 1, 0, 1, 1, 1, 1]])"
      ]
     },
     "execution_count": 5,
     "metadata": {},
     "output_type": "execute_result"
    }
   ],
   "source": [
    "#Let's use the CountVectorizer with n=1 to calculate the containment\n",
    "n_size=1\n",
    "cv=CountVectorizer(analyzer='word',ngram_range=(n_size,n_size))\n",
    "n_grams=cv.fit_transform([text_1,text_2])\n",
    "n_grams.toarray()"
   ]
  },
  {
   "cell_type": "code",
   "execution_count": 6,
   "id": "union-qualification",
   "metadata": {},
   "outputs": [
    {
     "name": "stdout",
     "output_type": "stream",
     "text": [
      "Continment for n=1:  0.875\n"
     ]
    }
   ],
   "source": [
    "print(\"Continment for n=1: \",containment_calculation(n_grams.toarray()))"
   ]
  },
  {
   "cell_type": "code",
   "execution_count": 7,
   "id": "hearing-dragon",
   "metadata": {},
   "outputs": [
    {
     "name": "stdout",
     "output_type": "stream",
     "text": [
      "Continment for n=2:  0.7142857142857143\n"
     ]
    }
   ],
   "source": [
    "n_size=2\n",
    "cv=CountVectorizer(analyzer='word',ngram_range=(n_size,n_size))\n",
    "n_grams=cv.fit_transform([text_1,text_2])\n",
    "print(\"Continment for n=2: \",containment_calculation(n_grams.toarray()))"
   ]
  },
  {
   "cell_type": "markdown",
   "id": "distributed-crime",
   "metadata": {},
   "source": [
    "## Data"
   ]
  },
  {
   "cell_type": "markdown",
   "id": "swiss-lesbian",
   "metadata": {},
   "source": [
    "The dataset to be used in this project is a modified version of the dataset create by Paul Clough and Mark Stevenson. The complete description of the data generation process is described in their [research article](https://link.springer.com/article/10.1007/s10579-009-9112-1) (Clough, P., Stevenson, M. Developing a corpus of plagiarised short answers, 2011)"
   ]
  },
  {
   "cell_type": "markdown",
   "id": "resistant-closer",
   "metadata": {},
   "source": [
    "### Description of the dataset\n",
    "\n",
    "<li> The dataset contains several txt files whose characteristics are summarized in the file_information.csv file. </li>\n",
    "<li> The dataset has 100 files, out of which 5 are the original answers. Therefore, the participants contributed with 95 anwers, divided in 5 tasks and 5 plagiarism methods. </li>\n",
    "<li> The <b>File</b> column in the file_information.csv file contains the name of the txt file. </li>\n",
    "<li> The <b>Task</b> column contains one of the five learning task (A-E) that each txt answers. </li>\n",
    "<li> The <b>Category</b> column indicates if the participant was asked to use a Near copy (cut), Light revision (light), Heavy revision (heavy) or Non-plagiarised (non) method to answer the question. This column also contains the 'orig' category to reference the original texts on which participants based their answers</li>\n",
    "\n",
    ">For more details in the above mentioned points, please refer to the research document (pages 9-12)"
   ]
  },
  {
   "cell_type": "code",
   "execution_count": 8,
   "id": "encouraging-finland",
   "metadata": {},
   "outputs": [],
   "source": [
    "import pandas as pd\n",
    "import numpy as np"
   ]
  },
  {
   "cell_type": "code",
   "execution_count": 9,
   "id": "amazing-jenny",
   "metadata": {},
   "outputs": [
    {
     "data": {
      "text/html": [
       "<div>\n",
       "<style scoped>\n",
       "    .dataframe tbody tr th:only-of-type {\n",
       "        vertical-align: middle;\n",
       "    }\n",
       "\n",
       "    .dataframe tbody tr th {\n",
       "        vertical-align: top;\n",
       "    }\n",
       "\n",
       "    .dataframe thead th {\n",
       "        text-align: right;\n",
       "    }\n",
       "</style>\n",
       "<table border=\"1\" class=\"dataframe\">\n",
       "  <thead>\n",
       "    <tr style=\"text-align: right;\">\n",
       "      <th></th>\n",
       "      <th>File</th>\n",
       "      <th>Task</th>\n",
       "      <th>Category</th>\n",
       "    </tr>\n",
       "  </thead>\n",
       "  <tbody>\n",
       "    <tr>\n",
       "      <th>0</th>\n",
       "      <td>g0pA_taska.txt</td>\n",
       "      <td>a</td>\n",
       "      <td>non</td>\n",
       "    </tr>\n",
       "    <tr>\n",
       "      <th>1</th>\n",
       "      <td>g0pA_taskb.txt</td>\n",
       "      <td>b</td>\n",
       "      <td>cut</td>\n",
       "    </tr>\n",
       "    <tr>\n",
       "      <th>2</th>\n",
       "      <td>g0pA_taskc.txt</td>\n",
       "      <td>c</td>\n",
       "      <td>light</td>\n",
       "    </tr>\n",
       "    <tr>\n",
       "      <th>3</th>\n",
       "      <td>g0pA_taskd.txt</td>\n",
       "      <td>d</td>\n",
       "      <td>heavy</td>\n",
       "    </tr>\n",
       "    <tr>\n",
       "      <th>4</th>\n",
       "      <td>g0pA_taske.txt</td>\n",
       "      <td>e</td>\n",
       "      <td>non</td>\n",
       "    </tr>\n",
       "    <tr>\n",
       "      <th>...</th>\n",
       "      <td>...</td>\n",
       "      <td>...</td>\n",
       "      <td>...</td>\n",
       "    </tr>\n",
       "    <tr>\n",
       "      <th>95</th>\n",
       "      <td>orig_taska.txt</td>\n",
       "      <td>a</td>\n",
       "      <td>orig</td>\n",
       "    </tr>\n",
       "    <tr>\n",
       "      <th>96</th>\n",
       "      <td>orig_taskb.txt</td>\n",
       "      <td>b</td>\n",
       "      <td>orig</td>\n",
       "    </tr>\n",
       "    <tr>\n",
       "      <th>97</th>\n",
       "      <td>orig_taskc.txt</td>\n",
       "      <td>c</td>\n",
       "      <td>orig</td>\n",
       "    </tr>\n",
       "    <tr>\n",
       "      <th>98</th>\n",
       "      <td>orig_taskd.txt</td>\n",
       "      <td>d</td>\n",
       "      <td>orig</td>\n",
       "    </tr>\n",
       "    <tr>\n",
       "      <th>99</th>\n",
       "      <td>orig_taske.txt</td>\n",
       "      <td>e</td>\n",
       "      <td>orig</td>\n",
       "    </tr>\n",
       "  </tbody>\n",
       "</table>\n",
       "<p>100 rows × 3 columns</p>\n",
       "</div>"
      ],
      "text/plain": [
       "              File Task Category\n",
       "0   g0pA_taska.txt    a      non\n",
       "1   g0pA_taskb.txt    b      cut\n",
       "2   g0pA_taskc.txt    c    light\n",
       "3   g0pA_taskd.txt    d    heavy\n",
       "4   g0pA_taske.txt    e      non\n",
       "..             ...  ...      ...\n",
       "95  orig_taska.txt    a     orig\n",
       "96  orig_taskb.txt    b     orig\n",
       "97  orig_taskc.txt    c     orig\n",
       "98  orig_taskd.txt    d     orig\n",
       "99  orig_taske.txt    e     orig\n",
       "\n",
       "[100 rows x 3 columns]"
      ]
     },
     "execution_count": 9,
     "metadata": {},
     "output_type": "execute_result"
    }
   ],
   "source": [
    "summary_data=pd.read_csv('./data/file_information.csv')\n",
    "summary_data"
   ]
  },
  {
   "cell_type": "code",
   "execution_count": 10,
   "id": "diverse-render",
   "metadata": {},
   "outputs": [
    {
     "name": "stdout",
     "output_type": "stream",
     "text": [
      "\n",
      "Distribution among tasks and plagiarism categories:\n",
      "\n"
     ]
    },
    {
     "data": {
      "text/html": [
       "<div>\n",
       "<style scoped>\n",
       "    .dataframe tbody tr th:only-of-type {\n",
       "        vertical-align: middle;\n",
       "    }\n",
       "\n",
       "    .dataframe tbody tr th {\n",
       "        vertical-align: top;\n",
       "    }\n",
       "\n",
       "    .dataframe thead th {\n",
       "        text-align: right;\n",
       "    }\n",
       "</style>\n",
       "<table border=\"1\" class=\"dataframe\">\n",
       "  <thead>\n",
       "    <tr style=\"text-align: right;\">\n",
       "      <th>Task</th>\n",
       "      <th>a</th>\n",
       "      <th>b</th>\n",
       "      <th>c</th>\n",
       "      <th>d</th>\n",
       "      <th>e</th>\n",
       "      <th>All</th>\n",
       "    </tr>\n",
       "    <tr>\n",
       "      <th>Category</th>\n",
       "      <th></th>\n",
       "      <th></th>\n",
       "      <th></th>\n",
       "      <th></th>\n",
       "      <th></th>\n",
       "      <th></th>\n",
       "    </tr>\n",
       "  </thead>\n",
       "  <tbody>\n",
       "    <tr>\n",
       "      <th>cut</th>\n",
       "      <td>4</td>\n",
       "      <td>3</td>\n",
       "      <td>3</td>\n",
       "      <td>4</td>\n",
       "      <td>5</td>\n",
       "      <td>19</td>\n",
       "    </tr>\n",
       "    <tr>\n",
       "      <th>heavy</th>\n",
       "      <td>3</td>\n",
       "      <td>4</td>\n",
       "      <td>5</td>\n",
       "      <td>4</td>\n",
       "      <td>3</td>\n",
       "      <td>19</td>\n",
       "    </tr>\n",
       "    <tr>\n",
       "      <th>light</th>\n",
       "      <td>3</td>\n",
       "      <td>3</td>\n",
       "      <td>4</td>\n",
       "      <td>5</td>\n",
       "      <td>4</td>\n",
       "      <td>19</td>\n",
       "    </tr>\n",
       "    <tr>\n",
       "      <th>non</th>\n",
       "      <td>9</td>\n",
       "      <td>9</td>\n",
       "      <td>7</td>\n",
       "      <td>6</td>\n",
       "      <td>7</td>\n",
       "      <td>38</td>\n",
       "    </tr>\n",
       "    <tr>\n",
       "      <th>orig</th>\n",
       "      <td>1</td>\n",
       "      <td>1</td>\n",
       "      <td>1</td>\n",
       "      <td>1</td>\n",
       "      <td>1</td>\n",
       "      <td>5</td>\n",
       "    </tr>\n",
       "    <tr>\n",
       "      <th>All</th>\n",
       "      <td>20</td>\n",
       "      <td>20</td>\n",
       "      <td>20</td>\n",
       "      <td>20</td>\n",
       "      <td>20</td>\n",
       "      <td>100</td>\n",
       "    </tr>\n",
       "  </tbody>\n",
       "</table>\n",
       "</div>"
      ],
      "text/plain": [
       "Task       a   b   c   d   e  All\n",
       "Category                         \n",
       "cut        4   3   3   4   5   19\n",
       "heavy      3   4   5   4   3   19\n",
       "light      3   3   4   5   4   19\n",
       "non        9   9   7   6   7   38\n",
       "orig       1   1   1   1   1    5\n",
       "All       20  20  20  20  20  100"
      ]
     },
     "execution_count": 10,
     "metadata": {},
     "output_type": "execute_result"
    }
   ],
   "source": [
    "print(\"\\nDistribution among tasks and plagiarism categories:\\n\")\n",
    "pd.crosstab(summary_data['Category'],summary_data['Task'],margins=True)"
   ]
  },
  {
   "cell_type": "code",
   "execution_count": 11,
   "id": "given-detective",
   "metadata": {},
   "outputs": [
    {
     "data": {
      "image/png": "[encoded data removed]",
      "text/plain": [
       "<Figure size 432x288 with 1 Axes>"
      ]
     },
     "metadata": {
      "needs_background": "light"
     },
     "output_type": "display_data"
    }
   ],
   "source": [
    "import matplotlib.pyplot as plt\n",
    "fig,ax=plt.subplots()\n",
    "summary_data.groupby(by=['Task','Category']).count().unstack().plot(kind='bar',stacked=False, ax=ax)\n",
    "ax.legend(['cut','heavy','light','non','orig']);"
   ]
  },
  {
   "cell_type": "markdown",
   "id": "treated-cruise",
   "metadata": {},
   "source": [
    "## Data Preprocessing"
   ]
  },
  {
   "cell_type": "markdown",
   "id": "bound-terrorism",
   "metadata": {},
   "source": [
    "1. The first step in the data preprocessing is converting the multiclass variable that indicates plagiarism into a binary class so we can use a binary classification algorithm to classify the texts as either plagiarised or not plagiarised. \n",
    "\n",
    "The classes in the Category column can be classified as plagiarism, not plagiarism and original text. As the original text does not form any form of plagiarism, we will classify them as a third category that will be later use to compare the plagiarism text to the original one."
   ]
  },
  {
   "cell_type": "code",
   "execution_count": 12,
   "id": "fitted-compromise",
   "metadata": {},
   "outputs": [],
   "source": [
    "#Our function to transform a 5 class variable into a 3 class variable (plagiarised, non-plagiarised, original)\n",
    "#takes as input the csv file (route and name) and returns a new dataframe with the category converted to numbers\n",
    "#and a new column containing the new 3 class variable.\n",
    "#Is important to mention that the csv provided is assumed to have File, Category and Task columns\n",
    "\n",
    "def class_to_numbers(csv):\n",
    "    df=pd.read_csv(csv)\n",
    "    df['Category']=df['Category'].map({'non':0,'heavy':1,'light':2,'cut':3,'orig':-1})\n",
    "    df['Class']=df['Category'].map({0:0,1:1,2:1,3:1,-1:-1})\n",
    "    return df"
   ]
  },
  {
   "cell_type": "code",
   "execution_count": 13,
   "id": "conscious-quantum",
   "metadata": {},
   "outputs": [
    {
     "data": {
      "text/html": [
       "<div>\n",
       "<style scoped>\n",
       "    .dataframe tbody tr th:only-of-type {\n",
       "        vertical-align: middle;\n",
       "    }\n",
       "\n",
       "    .dataframe tbody tr th {\n",
       "        vertical-align: top;\n",
       "    }\n",
       "\n",
       "    .dataframe thead th {\n",
       "        text-align: right;\n",
       "    }\n",
       "</style>\n",
       "<table border=\"1\" class=\"dataframe\">\n",
       "  <thead>\n",
       "    <tr style=\"text-align: right;\">\n",
       "      <th></th>\n",
       "      <th>File</th>\n",
       "      <th>Task</th>\n",
       "      <th>Category</th>\n",
       "      <th>Class</th>\n",
       "    </tr>\n",
       "  </thead>\n",
       "  <tbody>\n",
       "    <tr>\n",
       "      <th>0</th>\n",
       "      <td>g0pA_taska.txt</td>\n",
       "      <td>a</td>\n",
       "      <td>0</td>\n",
       "      <td>0</td>\n",
       "    </tr>\n",
       "    <tr>\n",
       "      <th>1</th>\n",
       "      <td>g0pA_taskb.txt</td>\n",
       "      <td>b</td>\n",
       "      <td>3</td>\n",
       "      <td>1</td>\n",
       "    </tr>\n",
       "    <tr>\n",
       "      <th>2</th>\n",
       "      <td>g0pA_taskc.txt</td>\n",
       "      <td>c</td>\n",
       "      <td>2</td>\n",
       "      <td>1</td>\n",
       "    </tr>\n",
       "    <tr>\n",
       "      <th>3</th>\n",
       "      <td>g0pA_taskd.txt</td>\n",
       "      <td>d</td>\n",
       "      <td>1</td>\n",
       "      <td>1</td>\n",
       "    </tr>\n",
       "    <tr>\n",
       "      <th>4</th>\n",
       "      <td>g0pA_taske.txt</td>\n",
       "      <td>e</td>\n",
       "      <td>0</td>\n",
       "      <td>0</td>\n",
       "    </tr>\n",
       "    <tr>\n",
       "      <th>5</th>\n",
       "      <td>g0pB_taska.txt</td>\n",
       "      <td>a</td>\n",
       "      <td>0</td>\n",
       "      <td>0</td>\n",
       "    </tr>\n",
       "    <tr>\n",
       "      <th>6</th>\n",
       "      <td>g0pB_taskb.txt</td>\n",
       "      <td>b</td>\n",
       "      <td>0</td>\n",
       "      <td>0</td>\n",
       "    </tr>\n",
       "    <tr>\n",
       "      <th>7</th>\n",
       "      <td>g0pB_taskc.txt</td>\n",
       "      <td>c</td>\n",
       "      <td>3</td>\n",
       "      <td>1</td>\n",
       "    </tr>\n",
       "    <tr>\n",
       "      <th>8</th>\n",
       "      <td>g0pB_taskd.txt</td>\n",
       "      <td>d</td>\n",
       "      <td>2</td>\n",
       "      <td>1</td>\n",
       "    </tr>\n",
       "    <tr>\n",
       "      <th>9</th>\n",
       "      <td>g0pB_taske.txt</td>\n",
       "      <td>e</td>\n",
       "      <td>1</td>\n",
       "      <td>1</td>\n",
       "    </tr>\n",
       "  </tbody>\n",
       "</table>\n",
       "</div>"
      ],
      "text/plain": [
       "             File Task  Category  Class\n",
       "0  g0pA_taska.txt    a         0      0\n",
       "1  g0pA_taskb.txt    b         3      1\n",
       "2  g0pA_taskc.txt    c         2      1\n",
       "3  g0pA_taskd.txt    d         1      1\n",
       "4  g0pA_taske.txt    e         0      0\n",
       "5  g0pB_taska.txt    a         0      0\n",
       "6  g0pB_taskb.txt    b         0      0\n",
       "7  g0pB_taskc.txt    c         3      1\n",
       "8  g0pB_taskd.txt    d         2      1\n",
       "9  g0pB_taske.txt    e         1      1"
      ]
     },
     "execution_count": 13,
     "metadata": {},
     "output_type": "execute_result"
    }
   ],
   "source": [
    "df=class_to_numbers('data/file_information.csv')\n",
    "df.head(10)"
   ]
  },
  {
   "cell_type": "markdown",
   "id": "green-master",
   "metadata": {},
   "source": [
    "2. After replacing the labels and dividing our data into plagiarised and non-plagiarised records, we should extract the text in the txt files and include them in the dataset"
   ]
  },
  {
   "cell_type": "code",
   "execution_count": 14,
   "id": "blessed-firewall",
   "metadata": {},
   "outputs": [
    {
     "data": {
      "text/html": [
       "<div>\n",
       "<style scoped>\n",
       "    .dataframe tbody tr th:only-of-type {\n",
       "        vertical-align: middle;\n",
       "    }\n",
       "\n",
       "    .dataframe tbody tr th {\n",
       "        vertical-align: top;\n",
       "    }\n",
       "\n",
       "    .dataframe thead th {\n",
       "        text-align: right;\n",
       "    }\n",
       "</style>\n",
       "<table border=\"1\" class=\"dataframe\">\n",
       "  <thead>\n",
       "    <tr style=\"text-align: right;\">\n",
       "      <th></th>\n",
       "      <th>File</th>\n",
       "      <th>Task</th>\n",
       "      <th>Category</th>\n",
       "      <th>Class</th>\n",
       "      <th>Text</th>\n",
       "    </tr>\n",
       "  </thead>\n",
       "  <tbody>\n",
       "    <tr>\n",
       "      <th>0</th>\n",
       "      <td>g0pA_taska.txt</td>\n",
       "      <td>a</td>\n",
       "      <td>0</td>\n",
       "      <td>0</td>\n",
       "      <td>inheritance is a basic concept of object orien...</td>\n",
       "    </tr>\n",
       "    <tr>\n",
       "      <th>1</th>\n",
       "      <td>g0pA_taskb.txt</td>\n",
       "      <td>b</td>\n",
       "      <td>3</td>\n",
       "      <td>1</td>\n",
       "      <td>pagerank is a link analysis algorithm used by ...</td>\n",
       "    </tr>\n",
       "    <tr>\n",
       "      <th>2</th>\n",
       "      <td>g0pA_taskc.txt</td>\n",
       "      <td>c</td>\n",
       "      <td>2</td>\n",
       "      <td>1</td>\n",
       "      <td>the vector space model also called term vector...</td>\n",
       "    </tr>\n",
       "    <tr>\n",
       "      <th>3</th>\n",
       "      <td>g0pA_taskd.txt</td>\n",
       "      <td>d</td>\n",
       "      <td>1</td>\n",
       "      <td>1</td>\n",
       "      <td>bayes theorem was names after rev thomas bayes...</td>\n",
       "    </tr>\n",
       "    <tr>\n",
       "      <th>4</th>\n",
       "      <td>g0pA_taske.txt</td>\n",
       "      <td>e</td>\n",
       "      <td>0</td>\n",
       "      <td>0</td>\n",
       "      <td>dynamic programming is an algorithm design tec...</td>\n",
       "    </tr>\n",
       "  </tbody>\n",
       "</table>\n",
       "</div>"
      ],
      "text/plain": [
       "             File Task  Category  Class  \\\n",
       "0  g0pA_taska.txt    a         0      0   \n",
       "1  g0pA_taskb.txt    b         3      1   \n",
       "2  g0pA_taskc.txt    c         2      1   \n",
       "3  g0pA_taskd.txt    d         1      1   \n",
       "4  g0pA_taske.txt    e         0      0   \n",
       "\n",
       "                                                Text  \n",
       "0  inheritance is a basic concept of object orien...  \n",
       "1  pagerank is a link analysis algorithm used by ...  \n",
       "2  the vector space model also called term vector...  \n",
       "3  bayes theorem was names after rev thomas bayes...  \n",
       "4  dynamic programming is an algorithm design tec...  "
      ]
     },
     "execution_count": 14,
     "metadata": {},
     "output_type": "execute_result"
    }
   ],
   "source": [
    "import re\n",
    "texts=[]\n",
    "for i in df['File']:\n",
    "    with open('data/'+i,'r',encoding='UTF-8',errors='ignore') as f:\n",
    "        line=f.read()\n",
    "        line=re.sub(r'[^\\w\\s]', ' ',line.lower())\n",
    "        line=line.replace('\\n',' ')\n",
    "        line=line.replace('\\t',' ')\n",
    "        line=line.replace('   ',' ')\n",
    "        line=line.replace('  ',' ')\n",
    "        texts.append(line)\n",
    "        f.close()\n",
    "df['Text']=texts\n",
    "del(texts)\n",
    "df.head()"
   ]
  },
  {
   "cell_type": "markdown",
   "id": "completed-studio",
   "metadata": {},
   "source": [
    "3. Provided that our data is divided into 5 tasks, it is optimal to implement an stratified random sampling in order to have a similar proportion answers of each task and plagiarism in training and test set. In case we do not use stratified sampling, we may end up with zero observations corresponding to a particular task in our test or training data."
   ]
  },
  {
   "cell_type": "code",
   "execution_count": 15,
   "id": "organic-nowhere",
   "metadata": {},
   "outputs": [],
   "source": [
    "import operator\n",
    "def sampling(data_frame,operator,sampling,seed):\n",
    "    #The function first retrieves from the original dataset the rows that contain rows that meet certain criteria.\n",
    "    #The criteria of the Category row being greater than zero retrieves the plagiarised answers, and Category equal to zero\n",
    "    #retrieves the non-plagiarised data\n",
    "    df1=data_frame[operator(df['Category'],0)]\n",
    "    \n",
    "    #We then obtain a sratified subsample. Using sample after a grouped dataframe allows us to retrieve the same quantity of observation\n",
    "    #in each sub group.\n",
    "    index_stratified=df1.groupby(by=['Task','Category'],group_keys=False).apply(lambda x: x.sample(min(len(x), sampling),random_state=seed)).index\n",
    "    data_frame.iloc[index_stratified,list(data_frame.columns).index('Datatype')]=2\n",
    "    data_frame.iloc[df1.index.difference(index_stratified),list(data_frame.columns).index('Datatype')]=1    "
   ]
  },
  {
   "cell_type": "code",
   "execution_count": 16,
   "id": "cross-championship",
   "metadata": {},
   "outputs": [],
   "source": [
    "def train_test_dataframe(df, seed=100):\n",
    "    new_df = df.copy()\n",
    "    new_df.loc[:,'Datatype'] = 0\n",
    "    sampling(new_df, operator.gt,1, seed)\n",
    "    sampling(new_df, operator.eq,2, seed)\n",
    "    mapping = {0:'orig', 1:'train', 2:'test'} \n",
    "    new_df.Datatype = [mapping[item] for item in new_df.Datatype] \n",
    "    return new_df"
   ]
  },
  {
   "cell_type": "code",
   "execution_count": 17,
   "id": "infectious-operator",
   "metadata": {},
   "outputs": [
    {
     "data": {
      "text/html": [
       "<div>\n",
       "<style scoped>\n",
       "    .dataframe tbody tr th:only-of-type {\n",
       "        vertical-align: middle;\n",
       "    }\n",
       "\n",
       "    .dataframe tbody tr th {\n",
       "        vertical-align: top;\n",
       "    }\n",
       "\n",
       "    .dataframe thead th {\n",
       "        text-align: right;\n",
       "    }\n",
       "</style>\n",
       "<table border=\"1\" class=\"dataframe\">\n",
       "  <thead>\n",
       "    <tr style=\"text-align: right;\">\n",
       "      <th></th>\n",
       "      <th>File</th>\n",
       "      <th>Task</th>\n",
       "      <th>Category</th>\n",
       "      <th>Class</th>\n",
       "      <th>Text</th>\n",
       "      <th>Datatype</th>\n",
       "    </tr>\n",
       "  </thead>\n",
       "  <tbody>\n",
       "    <tr>\n",
       "      <th>0</th>\n",
       "      <td>g0pA_taska.txt</td>\n",
       "      <td>a</td>\n",
       "      <td>0</td>\n",
       "      <td>0</td>\n",
       "      <td>inheritance is a basic concept of object orien...</td>\n",
       "      <td>train</td>\n",
       "    </tr>\n",
       "    <tr>\n",
       "      <th>1</th>\n",
       "      <td>g0pA_taskb.txt</td>\n",
       "      <td>b</td>\n",
       "      <td>3</td>\n",
       "      <td>1</td>\n",
       "      <td>pagerank is a link analysis algorithm used by ...</td>\n",
       "      <td>test</td>\n",
       "    </tr>\n",
       "    <tr>\n",
       "      <th>2</th>\n",
       "      <td>g0pA_taskc.txt</td>\n",
       "      <td>c</td>\n",
       "      <td>2</td>\n",
       "      <td>1</td>\n",
       "      <td>the vector space model also called term vector...</td>\n",
       "      <td>train</td>\n",
       "    </tr>\n",
       "    <tr>\n",
       "      <th>3</th>\n",
       "      <td>g0pA_taskd.txt</td>\n",
       "      <td>d</td>\n",
       "      <td>1</td>\n",
       "      <td>1</td>\n",
       "      <td>bayes theorem was names after rev thomas bayes...</td>\n",
       "      <td>train</td>\n",
       "    </tr>\n",
       "    <tr>\n",
       "      <th>4</th>\n",
       "      <td>g0pA_taske.txt</td>\n",
       "      <td>e</td>\n",
       "      <td>0</td>\n",
       "      <td>0</td>\n",
       "      <td>dynamic programming is an algorithm design tec...</td>\n",
       "      <td>train</td>\n",
       "    </tr>\n",
       "    <tr>\n",
       "      <th>...</th>\n",
       "      <td>...</td>\n",
       "      <td>...</td>\n",
       "      <td>...</td>\n",
       "      <td>...</td>\n",
       "      <td>...</td>\n",
       "      <td>...</td>\n",
       "    </tr>\n",
       "    <tr>\n",
       "      <th>95</th>\n",
       "      <td>orig_taska.txt</td>\n",
       "      <td>a</td>\n",
       "      <td>-1</td>\n",
       "      <td>-1</td>\n",
       "      <td>in object oriented programming inheritance is ...</td>\n",
       "      <td>orig</td>\n",
       "    </tr>\n",
       "    <tr>\n",
       "      <th>96</th>\n",
       "      <td>orig_taskb.txt</td>\n",
       "      <td>b</td>\n",
       "      <td>-1</td>\n",
       "      <td>-1</td>\n",
       "      <td>pagerank is a link analysis algorithm used by ...</td>\n",
       "      <td>orig</td>\n",
       "    </tr>\n",
       "    <tr>\n",
       "      <th>97</th>\n",
       "      <td>orig_taskc.txt</td>\n",
       "      <td>c</td>\n",
       "      <td>-1</td>\n",
       "      <td>-1</td>\n",
       "      <td>vector space model or term vector model is an ...</td>\n",
       "      <td>orig</td>\n",
       "    </tr>\n",
       "    <tr>\n",
       "      <th>98</th>\n",
       "      <td>orig_taskd.txt</td>\n",
       "      <td>d</td>\n",
       "      <td>-1</td>\n",
       "      <td>-1</td>\n",
       "      <td>in probability theory bayes theorem often call...</td>\n",
       "      <td>orig</td>\n",
       "    </tr>\n",
       "    <tr>\n",
       "      <th>99</th>\n",
       "      <td>orig_taske.txt</td>\n",
       "      <td>e</td>\n",
       "      <td>-1</td>\n",
       "      <td>-1</td>\n",
       "      <td>in mathematics and computer science dynamic pr...</td>\n",
       "      <td>orig</td>\n",
       "    </tr>\n",
       "  </tbody>\n",
       "</table>\n",
       "<p>100 rows × 6 columns</p>\n",
       "</div>"
      ],
      "text/plain": [
       "              File Task  Category  Class  \\\n",
       "0   g0pA_taska.txt    a         0      0   \n",
       "1   g0pA_taskb.txt    b         3      1   \n",
       "2   g0pA_taskc.txt    c         2      1   \n",
       "3   g0pA_taskd.txt    d         1      1   \n",
       "4   g0pA_taske.txt    e         0      0   \n",
       "..             ...  ...       ...    ...   \n",
       "95  orig_taska.txt    a        -1     -1   \n",
       "96  orig_taskb.txt    b        -1     -1   \n",
       "97  orig_taskc.txt    c        -1     -1   \n",
       "98  orig_taskd.txt    d        -1     -1   \n",
       "99  orig_taske.txt    e        -1     -1   \n",
       "\n",
       "                                                 Text Datatype  \n",
       "0   inheritance is a basic concept of object orien...    train  \n",
       "1   pagerank is a link analysis algorithm used by ...     test  \n",
       "2   the vector space model also called term vector...    train  \n",
       "3   bayes theorem was names after rev thomas bayes...    train  \n",
       "4   dynamic programming is an algorithm design tec...    train  \n",
       "..                                                ...      ...  \n",
       "95  in object oriented programming inheritance is ...     orig  \n",
       "96  pagerank is a link analysis algorithm used by ...     orig  \n",
       "97  vector space model or term vector model is an ...     orig  \n",
       "98  in probability theory bayes theorem often call...     orig  \n",
       "99  in mathematics and computer science dynamic pr...     orig  \n",
       "\n",
       "[100 rows x 6 columns]"
      ]
     },
     "execution_count": 17,
     "metadata": {},
     "output_type": "execute_result"
    }
   ],
   "source": [
    "df = train_test_dataframe(df, seed=1)\n",
    "df"
   ]
  },
  {
   "cell_type": "code",
   "execution_count": 18,
   "id": "chubby-robertson",
   "metadata": {},
   "outputs": [
    {
     "name": "stdout",
     "output_type": "stream",
     "text": [
      "Distribution of train/test observations for task a: \n",
      "train    14\n",
      "test      5\n",
      "orig      1\n",
      "Name: Datatype, dtype: int64\n",
      "\n",
      "\n",
      "Distribution of train/test observations for task b: \n",
      "train    14\n",
      "test      5\n",
      "orig      1\n",
      "Name: Datatype, dtype: int64\n",
      "\n",
      "\n",
      "Distribution of train/test observations for task c: \n",
      "train    14\n",
      "test      5\n",
      "orig      1\n",
      "Name: Datatype, dtype: int64\n",
      "\n",
      "\n",
      "Distribution of train/test observations for task d: \n",
      "train    14\n",
      "test      5\n",
      "orig      1\n",
      "Name: Datatype, dtype: int64\n",
      "\n",
      "\n",
      "Distribution of train/test observations for task e: \n",
      "train    14\n",
      "test      5\n",
      "orig      1\n",
      "Name: Datatype, dtype: int64\n",
      "\n",
      "\n"
     ]
    }
   ],
   "source": [
    "#We can see below that we obtained similar amount of training and test observations for each task.\n",
    "for i in ['a','b','c','d','e']:\n",
    "    print('Distribution of train/test observations for task '+i+': ')\n",
    "    print(df[df.Task==i].Datatype.value_counts())\n",
    "    print('\\n')"
   ]
  },
  {
   "cell_type": "code",
   "execution_count": 19,
   "id": "political-chemistry",
   "metadata": {},
   "outputs": [
    {
     "name": "stdout",
     "output_type": "stream",
     "text": [
      "Distribution of train/test observations for Category 0: \n",
      "train    28\n",
      "test     10\n",
      "Name: Datatype, dtype: int64\n",
      "\n",
      "\n",
      "Distribution of train/test observations for Category 1: \n",
      "train    14\n",
      "test      5\n",
      "Name: Datatype, dtype: int64\n",
      "\n",
      "\n",
      "Distribution of train/test observations for Category 2: \n",
      "train    14\n",
      "test      5\n",
      "Name: Datatype, dtype: int64\n",
      "\n",
      "\n",
      "Distribution of train/test observations for Category 3: \n",
      "train    14\n",
      "test      5\n",
      "Name: Datatype, dtype: int64\n",
      "\n",
      "\n",
      "Distribution of train/test observations for Category -1: \n",
      "orig    5\n",
      "Name: Datatype, dtype: int64\n",
      "\n",
      "\n"
     ]
    }
   ],
   "source": [
    "#We can see below that we obtained the same proportion of train/test observations for each category.\n",
    "for i in [0,1,2,3,-1]:\n",
    "    print('Distribution of train/test observations for Category '+str(i)+': ')\n",
    "    print(df[df.Category==i].Datatype.value_counts())\n",
    "    print('\\n')"
   ]
  },
  {
   "cell_type": "markdown",
   "id": "fabulous-commodity",
   "metadata": {},
   "source": [
    "## Calculating similarity features for estimation"
   ]
  },
  {
   "cell_type": "markdown",
   "id": "departmental-wallpaper",
   "metadata": {},
   "source": [
    "### Containment"
   ]
  },
  {
   "cell_type": "markdown",
   "id": "reliable-meter",
   "metadata": {},
   "source": [
    "We will begin by calculating the Containment measure.\n",
    "It is worth noting that in casa same n-gram is repeated in the answer text it should be counted as many times as it appears to calculate the size of the answer text (so the length of the text is not the number of unique n-grams, but the sum of the ocurrences of each n-gram)."
   ]
  },
  {
   "cell_type": "code",
   "execution_count": 20,
   "id": "worthy-stable",
   "metadata": {},
   "outputs": [],
   "source": [
    "from sklearn.feature_extraction.text import CountVectorizer\n",
    "def containment(df, n, answer_filename):\n",
    "    task=df[df.File==answer_filename].Task.values[0]\n",
    "    source_text=df[(df.Task==task) & (df.Datatype=='orig')].Text.values[0]\n",
    "    answer_text=df[df.File==answer_filename].Text.values[0]\n",
    "    cv=CountVectorizer(ngram_range=(n,n),analyzer='word')\n",
    "    n_grams=cv.fit_transform([answer_text,source_text]).toarray()\n",
    "    vocab_size=sum(n_grams[0])\n",
    "    intersection=sum(np.minimum(n_grams[0], n_grams[1]))\n",
    "    containment=intersection/vocab_size\n",
    "    \n",
    "    return containment"
   ]
  },
  {
   "cell_type": "markdown",
   "id": "random-ground",
   "metadata": {},
   "source": [
    "Let's test the containment calculation for different categories to confirm that the resulting value is higher in texts with more literal plagiarism. \n",
    "\n",
    "We will use a 4-gram. As n increases, the likelihood of obtaining higher containment even if the text is not plagiarised, decreases. This happens because certain topics need some unique words to be explained correctly."
   ]
  },
  {
   "cell_type": "code",
   "execution_count": 21,
   "id": "historic-turner",
   "metadata": {},
   "outputs": [
    {
     "name": "stdout",
     "output_type": "stream",
     "text": [
      "Original category values: \n",
      " [0, 3, 2, 1, 0]\n",
      "\n",
      "4-gram containment values: \n",
      " [0.0, 0.9432989690721649, 0.5159817351598174, 0.10869565217391304, 0.005319148936170213]\n"
     ]
    }
   ],
   "source": [
    "n = 4\n",
    "test_indices = range(5)\n",
    "category = []\n",
    "containment_values = []\n",
    "for i in test_indices:\n",
    "    category.append(df.loc[i, 'Category'])\n",
    "    filename = df.loc[i, 'File']\n",
    "    c = containment(df, n, filename)\n",
    "    containment_values.append(c)\n",
    "\n",
    "print('Original category values: \\n', category)\n",
    "print()\n",
    "print(str(n)+'-gram containment values: \\n', containment_values)"
   ]
  },
  {
   "cell_type": "markdown",
   "id": "light-honduras",
   "metadata": {},
   "source": [
    "As expected, the category 0 (non-plagiarised) has a containment very close to zero. The value of the calculation increases as the category goes from less plagiarised to near-copy plagiarism"
   ]
  },
  {
   "cell_type": "markdown",
   "id": "certified-death",
   "metadata": {},
   "source": [
    "### Longest Common Subsequence"
   ]
  },
  {
   "cell_type": "markdown",
   "id": "figured-instrument",
   "metadata": {},
   "source": [
    "Even though containment is a good measure of similarity between texts; as n becomes larger, it tends to identify a copy-paste type of plagiarism. Because order matters and n-grams consider only consecutive words, we need another measure of similarity where consecutiveness is nos strictly encouraged.\n",
    "\n",
    "The best way to calculate the LCS is using Dynamic Programming"
   ]
  },
  {
   "cell_type": "code",
   "execution_count": 22,
   "id": "composite-winning",
   "metadata": {},
   "outputs": [],
   "source": [
    "def lcs_calculation(answer_text, source_text):\n",
    "    '''Computes the longest common subsequence of words in two texts; returns a normalized value.\n",
    "       :param answer_text: The pre-processed text for an answer text\n",
    "       :param source_text: The pre-processed text for an answer's associated source text\n",
    "       :return: A normalized LCS value'''\n",
    "\n",
    "    answer_text_list=[x for x in answer_text.split(' ') if x!='']\n",
    "    source_text_list=[x for x in source_text.split(' ') if x!='']\n",
    "    matrix=np.zeros((len(answer_text_list)+1,len(source_text_list)+1))\n",
    "    for i in range(matrix.shape[0]-1):\n",
    "        for j in range(matrix.shape[1]-1):\n",
    "            if answer_text_list[i]==source_text_list[j]:\n",
    "                matrix[i+1,j+1]=matrix[i,j]+1\n",
    "            else:\n",
    "                 matrix[i+1,j+1]=max(matrix[i+1,j],matrix[i,j+1])\n",
    "    \n",
    "    return matrix[i+1,j+1]/len(answer_text_list)"
   ]
  },
  {
   "cell_type": "markdown",
   "id": "stuck-columbia",
   "metadata": {},
   "source": [
    "As with Containment, let's test the LCS calculation to see how it behaves for different kind of plagiarism"
   ]
  },
  {
   "cell_type": "code",
   "execution_count": 23,
   "id": "collect-replica",
   "metadata": {},
   "outputs": [
    {
     "data": {
      "text/plain": [
       "95    in object oriented programming inheritance is ...\n",
       "Name: Text, dtype: object"
      ]
     },
     "execution_count": 23,
     "metadata": {},
     "output_type": "execute_result"
    }
   ],
   "source": [
    "df.loc[(df.Task=='a') & (df.Class==-1),'Text']"
   ]
  },
  {
   "cell_type": "code",
   "execution_count": 24,
   "id": "finnish-murray",
   "metadata": {},
   "outputs": [
    {
     "name": "stdout",
     "output_type": "stream",
     "text": [
      "Original category values: \n",
      " [0, 3, 2, 1, 0]\n",
      "\n",
      "LCS values: \n",
      " [0.1917808219178082, 0.8207547169811321, 0.8464912280701754, 0.3160621761658031, 0.24257425742574257]\n"
     ]
    }
   ],
   "source": [
    "test_indices = range(5)\n",
    "category = []\n",
    "lcs_values = []\n",
    "for i in test_indices:\n",
    "    category.append(df.loc[i, 'Category'])\n",
    "    task=df.loc[i, 'Task']\n",
    "    answer_text = df.loc[i, 'Text']\n",
    "    source_text = df.loc[(df.Task==task) & (df.Class==-1),'Text'].values[0]\n",
    "    lcs = lcs_calculation(answer_text, source_text)\n",
    "    lcs_values.append(lcs)\n",
    "\n",
    "print('Original category values: \\n', category)\n",
    "print()\n",
    "print('LCS values: \\n', lcs_values)"
   ]
  },
  {
   "cell_type": "markdown",
   "id": "weekly-broadcasting",
   "metadata": {},
   "source": [
    "As expected, the LCS values are higher than the Containment values because it also counts sequenses of non-consecutive words. Therefore, non-literal plagiarism can be better detected with LCS."
   ]
  },
  {
   "cell_type": "markdown",
   "id": "applicable-glory",
   "metadata": {},
   "source": [
    "### Including the features in the final dataset"
   ]
  },
  {
   "cell_type": "code",
   "execution_count": 25,
   "id": "conventional-boards",
   "metadata": {},
   "outputs": [],
   "source": [
    "def create_list_containment(df,n):\n",
    "    containment_list=[]\n",
    "    files=list(df['File'])\n",
    "    classes=list(df['Class'])              \n",
    "    for i in range(len(files)):\n",
    "        if classes[i]!=-1:\n",
    "            containment_list.append(containment(df,n,files[i]))\n",
    "        else:\n",
    "            containment_list.append(-1)\n",
    "    return containment_list  "
   ]
  },
  {
   "cell_type": "code",
   "execution_count": 26,
   "id": "corresponding-photography",
   "metadata": {},
   "outputs": [],
   "source": [
    "def create_list_lcs(df):\n",
    "    lcs_list=[]\n",
    "    texts=list(df['Text'])\n",
    "    tasks=list(df['Task'])\n",
    "    classes=list(df['Class'])\n",
    "    sources_dict=dict(zip(list(df[df.Class==-1].Task),list(df[df.Class==-1].Text)))                 \n",
    "    for i in range(len(texts)):\n",
    "        if classes[i]!=-1:\n",
    "            lcs_list.append(lcs_calculation(texts[i],sources_dict[tasks[i]]))\n",
    "        else:\n",
    "            lcs_list.append(-1)\n",
    "    return lcs_list  "
   ]
  },
  {
   "cell_type": "markdown",
   "id": "israeli-johns",
   "metadata": {},
   "source": [
    "We can calculate more than one containment depending on the **n** we use, so we could generate more than one feature based on different sizes of n-grams.\n",
    "For LCS we can only calculate one value."
   ]
  },
  {
   "cell_type": "code",
   "execution_count": 27,
   "id": "streaming-three",
   "metadata": {},
   "outputs": [
    {
     "data": {
      "text/html": [
       "<div>\n",
       "<style scoped>\n",
       "    .dataframe tbody tr th:only-of-type {\n",
       "        vertical-align: middle;\n",
       "    }\n",
       "\n",
       "    .dataframe tbody tr th {\n",
       "        vertical-align: top;\n",
       "    }\n",
       "\n",
       "    .dataframe thead th {\n",
       "        text-align: right;\n",
       "    }\n",
       "</style>\n",
       "<table border=\"1\" class=\"dataframe\">\n",
       "  <thead>\n",
       "    <tr style=\"text-align: right;\">\n",
       "      <th></th>\n",
       "      <th>containment1</th>\n",
       "      <th>containment2</th>\n",
       "      <th>containment3</th>\n",
       "      <th>containment4</th>\n",
       "      <th>containment5</th>\n",
       "      <th>containment6</th>\n",
       "      <th>containment7</th>\n",
       "      <th>containment8</th>\n",
       "      <th>containment9</th>\n",
       "      <th>containment10</th>\n",
       "      <th>lcs</th>\n",
       "    </tr>\n",
       "  </thead>\n",
       "  <tbody>\n",
       "    <tr>\n",
       "      <th>0</th>\n",
       "      <td>0.398148</td>\n",
       "      <td>0.079070</td>\n",
       "      <td>0.009346</td>\n",
       "      <td>0.000000</td>\n",
       "      <td>0.000000</td>\n",
       "      <td>0.000000</td>\n",
       "      <td>0.000000</td>\n",
       "      <td>0.000000</td>\n",
       "      <td>0.000000</td>\n",
       "      <td>0.000000</td>\n",
       "      <td>0.191781</td>\n",
       "    </tr>\n",
       "    <tr>\n",
       "      <th>1</th>\n",
       "      <td>1.000000</td>\n",
       "      <td>0.984694</td>\n",
       "      <td>0.964103</td>\n",
       "      <td>0.943299</td>\n",
       "      <td>0.922280</td>\n",
       "      <td>0.901042</td>\n",
       "      <td>0.879581</td>\n",
       "      <td>0.857895</td>\n",
       "      <td>0.835979</td>\n",
       "      <td>0.813830</td>\n",
       "      <td>0.820755</td>\n",
       "    </tr>\n",
       "    <tr>\n",
       "      <th>2</th>\n",
       "      <td>0.869369</td>\n",
       "      <td>0.719457</td>\n",
       "      <td>0.613636</td>\n",
       "      <td>0.515982</td>\n",
       "      <td>0.449541</td>\n",
       "      <td>0.382488</td>\n",
       "      <td>0.319444</td>\n",
       "      <td>0.265116</td>\n",
       "      <td>0.219626</td>\n",
       "      <td>0.197183</td>\n",
       "      <td>0.846491</td>\n",
       "    </tr>\n",
       "    <tr>\n",
       "      <th>3</th>\n",
       "      <td>0.593583</td>\n",
       "      <td>0.268817</td>\n",
       "      <td>0.156757</td>\n",
       "      <td>0.108696</td>\n",
       "      <td>0.081967</td>\n",
       "      <td>0.060440</td>\n",
       "      <td>0.044199</td>\n",
       "      <td>0.027778</td>\n",
       "      <td>0.011173</td>\n",
       "      <td>0.000000</td>\n",
       "      <td>0.316062</td>\n",
       "    </tr>\n",
       "    <tr>\n",
       "      <th>4</th>\n",
       "      <td>0.544503</td>\n",
       "      <td>0.115789</td>\n",
       "      <td>0.031746</td>\n",
       "      <td>0.005319</td>\n",
       "      <td>0.000000</td>\n",
       "      <td>0.000000</td>\n",
       "      <td>0.000000</td>\n",
       "      <td>0.000000</td>\n",
       "      <td>0.000000</td>\n",
       "      <td>0.000000</td>\n",
       "      <td>0.242574</td>\n",
       "    </tr>\n",
       "    <tr>\n",
       "      <th>...</th>\n",
       "      <td>...</td>\n",
       "      <td>...</td>\n",
       "      <td>...</td>\n",
       "      <td>...</td>\n",
       "      <td>...</td>\n",
       "      <td>...</td>\n",
       "      <td>...</td>\n",
       "      <td>...</td>\n",
       "      <td>...</td>\n",
       "      <td>...</td>\n",
       "      <td>...</td>\n",
       "    </tr>\n",
       "    <tr>\n",
       "      <th>95</th>\n",
       "      <td>-1.000000</td>\n",
       "      <td>-1.000000</td>\n",
       "      <td>-1.000000</td>\n",
       "      <td>-1.000000</td>\n",
       "      <td>-1.000000</td>\n",
       "      <td>-1.000000</td>\n",
       "      <td>-1.000000</td>\n",
       "      <td>-1.000000</td>\n",
       "      <td>-1.000000</td>\n",
       "      <td>-1.000000</td>\n",
       "      <td>-1.000000</td>\n",
       "    </tr>\n",
       "    <tr>\n",
       "      <th>96</th>\n",
       "      <td>-1.000000</td>\n",
       "      <td>-1.000000</td>\n",
       "      <td>-1.000000</td>\n",
       "      <td>-1.000000</td>\n",
       "      <td>-1.000000</td>\n",
       "      <td>-1.000000</td>\n",
       "      <td>-1.000000</td>\n",
       "      <td>-1.000000</td>\n",
       "      <td>-1.000000</td>\n",
       "      <td>-1.000000</td>\n",
       "      <td>-1.000000</td>\n",
       "    </tr>\n",
       "    <tr>\n",
       "      <th>97</th>\n",
       "      <td>-1.000000</td>\n",
       "      <td>-1.000000</td>\n",
       "      <td>-1.000000</td>\n",
       "      <td>-1.000000</td>\n",
       "      <td>-1.000000</td>\n",
       "      <td>-1.000000</td>\n",
       "      <td>-1.000000</td>\n",
       "      <td>-1.000000</td>\n",
       "      <td>-1.000000</td>\n",
       "      <td>-1.000000</td>\n",
       "      <td>-1.000000</td>\n",
       "    </tr>\n",
       "    <tr>\n",
       "      <th>98</th>\n",
       "      <td>-1.000000</td>\n",
       "      <td>-1.000000</td>\n",
       "      <td>-1.000000</td>\n",
       "      <td>-1.000000</td>\n",
       "      <td>-1.000000</td>\n",
       "      <td>-1.000000</td>\n",
       "      <td>-1.000000</td>\n",
       "      <td>-1.000000</td>\n",
       "      <td>-1.000000</td>\n",
       "      <td>-1.000000</td>\n",
       "      <td>-1.000000</td>\n",
       "    </tr>\n",
       "    <tr>\n",
       "      <th>99</th>\n",
       "      <td>-1.000000</td>\n",
       "      <td>-1.000000</td>\n",
       "      <td>-1.000000</td>\n",
       "      <td>-1.000000</td>\n",
       "      <td>-1.000000</td>\n",
       "      <td>-1.000000</td>\n",
       "      <td>-1.000000</td>\n",
       "      <td>-1.000000</td>\n",
       "      <td>-1.000000</td>\n",
       "      <td>-1.000000</td>\n",
       "      <td>-1.000000</td>\n",
       "    </tr>\n",
       "  </tbody>\n",
       "</table>\n",
       "<p>100 rows × 11 columns</p>\n",
       "</div>"
      ],
      "text/plain": [
       "    containment1  containment2  containment3  containment4  containment5  \\\n",
       "0       0.398148      0.079070      0.009346      0.000000      0.000000   \n",
       "1       1.000000      0.984694      0.964103      0.943299      0.922280   \n",
       "2       0.869369      0.719457      0.613636      0.515982      0.449541   \n",
       "3       0.593583      0.268817      0.156757      0.108696      0.081967   \n",
       "4       0.544503      0.115789      0.031746      0.005319      0.000000   \n",
       "..           ...           ...           ...           ...           ...   \n",
       "95     -1.000000     -1.000000     -1.000000     -1.000000     -1.000000   \n",
       "96     -1.000000     -1.000000     -1.000000     -1.000000     -1.000000   \n",
       "97     -1.000000     -1.000000     -1.000000     -1.000000     -1.000000   \n",
       "98     -1.000000     -1.000000     -1.000000     -1.000000     -1.000000   \n",
       "99     -1.000000     -1.000000     -1.000000     -1.000000     -1.000000   \n",
       "\n",
       "    containment6  containment7  containment8  containment9  containment10  \\\n",
       "0       0.000000      0.000000      0.000000      0.000000       0.000000   \n",
       "1       0.901042      0.879581      0.857895      0.835979       0.813830   \n",
       "2       0.382488      0.319444      0.265116      0.219626       0.197183   \n",
       "3       0.060440      0.044199      0.027778      0.011173       0.000000   \n",
       "4       0.000000      0.000000      0.000000      0.000000       0.000000   \n",
       "..           ...           ...           ...           ...            ...   \n",
       "95     -1.000000     -1.000000     -1.000000     -1.000000      -1.000000   \n",
       "96     -1.000000     -1.000000     -1.000000     -1.000000      -1.000000   \n",
       "97     -1.000000     -1.000000     -1.000000     -1.000000      -1.000000   \n",
       "98     -1.000000     -1.000000     -1.000000     -1.000000      -1.000000   \n",
       "99     -1.000000     -1.000000     -1.000000     -1.000000      -1.000000   \n",
       "\n",
       "         lcs  \n",
       "0   0.191781  \n",
       "1   0.820755  \n",
       "2   0.846491  \n",
       "3   0.316062  \n",
       "4   0.242574  \n",
       "..       ...  \n",
       "95 -1.000000  \n",
       "96 -1.000000  \n",
       "97 -1.000000  \n",
       "98 -1.000000  \n",
       "99 -1.000000  \n",
       "\n",
       "[100 rows x 11 columns]"
      ]
     },
     "execution_count": 27,
     "metadata": {},
     "output_type": "execute_result"
    }
   ],
   "source": [
    "number_of_n=10\n",
    "df_features=pd.DataFrame()\n",
    "for i in range(1,number_of_n+1):\n",
    "    column_name='containment'+str(i)\n",
    "    df_features[column_name]=create_list_containment(df,i)\n",
    "df_features['lcs']=create_list_lcs(df)\n",
    "df_features"
   ]
  },
  {
   "cell_type": "markdown",
   "id": "appreciated-income",
   "metadata": {},
   "source": [
    "### Selecting the least correlated features to predict plagiarism"
   ]
  },
  {
   "cell_type": "code",
   "execution_count": 28,
   "id": "present-yesterday",
   "metadata": {},
   "outputs": [
    {
     "data": {
      "image/png": "[encoded data removed]",
      "text/plain": [
       "<Figure size 432x288 with 2 Axes>"
      ]
     },
     "metadata": {
      "needs_background": "light"
     },
     "output_type": "display_data"
    }
   ],
   "source": [
    "import seaborn as sns\n",
    "sns.heatmap(df_features.corr());"
   ]
  },
  {
   "cell_type": "markdown",
   "id": "recorded-agent",
   "metadata": {},
   "source": [
    "For feature selection, we should consider a subset that has the lowest possible pairwise correlations. For that purpose, we will create a function that takes as input the inputs we want to have in our estimation anyways, and the correlation cutoff"
   ]
  },
  {
   "cell_type": "code",
   "execution_count": 29,
   "id": "pressed-shift",
   "metadata": {},
   "outputs": [],
   "source": [
    "def select_features(initial_features,correlation_cutoff):\n",
    "    '''\n",
    "    Function that calculates the least correlated features based on a corrolation_cutoff\n",
    "    Arguments:\n",
    "        initial_features: list of features that we want to have in our estimation anyway. The algorithm will compare correlations with this features and keep the ones that are least correlated\n",
    "        correlation_cutoff: the correlation cutoff to compare the pairwise correlations and keep only the features below the cutoff.\n",
    "    '''\n",
    "    \n",
    "    features=initial_features\n",
    "    matrix=df_features.corr().abs().stack().reset_index()\n",
    "    matrix.columns=['Feature_corr_1','Feature_corr_2','correlation']\n",
    "    while True:\n",
    "        value=matrix[matrix.Feature_corr_1.isin(features) & ~matrix.Feature_corr_2.isin(features)].groupby(by='Feature_corr_2').max().sort_values(by='correlation').iloc[0,1]\n",
    "        index=matrix[matrix.Feature_corr_1.isin(features) & ~matrix.Feature_corr_2.isin(features)].groupby(by='Feature_corr_2').max().sort_values(by='correlation').index[0]\n",
    "        if value<=correlation_cutoff:\n",
    "            features.append(index)\n",
    "        else:\n",
    "            break\n",
    "    return features"
   ]
  },
  {
   "cell_type": "code",
   "execution_count": 30,
   "id": "fitted-cruise",
   "metadata": {},
   "outputs": [
    {
     "data": {
      "text/plain": [
       "['lcs', 'containment10', 'containment1', 'containment3']"
      ]
     },
     "execution_count": 30,
     "metadata": {},
     "output_type": "execute_result"
    }
   ],
   "source": [
    "select_features(['lcs'],0.97)"
   ]
  },
  {
   "cell_type": "markdown",
   "id": "distinct-hardware",
   "metadata": {},
   "source": [
    "### Creating the train/test data and converting them to CSV"
   ]
  },
  {
   "cell_type": "code",
   "execution_count": 31,
   "id": "logical-expense",
   "metadata": {},
   "outputs": [],
   "source": [
    "def train_test_data(complete_df, features_df, selected_features):\n",
    "    \n",
    "    merge=complete_df.merge(features_df,left_index=True,right_index=True)\n",
    "    # get the training features\n",
    "    train_x = merge.loc[complete_df.Datatype=='train',selected_features].to_numpy()\n",
    "    # And training class labels (0 or 1)\n",
    "    train_y = merge.loc[complete_df.Datatype=='train','Class'].to_numpy()\n",
    "    \n",
    "    # get the test features and labels\n",
    "    test_x = merge.loc[complete_df.Datatype=='test',selected_features].to_numpy()\n",
    "    test_y = merge.loc[complete_df.Datatype=='test','Class'].to_numpy()\n",
    "    \n",
    "    return (train_x, train_y), (test_x, test_y)"
   ]
  },
  {
   "cell_type": "code",
   "execution_count": 32,
   "id": "trained-drill",
   "metadata": {},
   "outputs": [],
   "source": [
    "final_features = select_features(['lcs'],0.97)\n",
    "(train_x, train_y), (test_x, test_y) = train_test_data(df, df_features,final_features)"
   ]
  },
  {
   "cell_type": "code",
   "execution_count": 33,
   "id": "satisfactory-attachment",
   "metadata": {},
   "outputs": [],
   "source": [
    "import os\n",
    "def data_to_csv(x,y,file,directory):\n",
    "    if not os.path.exists(directory):\n",
    "        os.makedirs(directory)\n",
    "    final_data=pd.concat([pd.DataFrame(y),pd.DataFrame(x)],axis=1)\n",
    "    path=os.path.join(directory,file)\n",
    "    final_data.to_csv(path,index=False,header=False) "
   ]
  },
  {
   "cell_type": "code",
   "execution_count": 34,
   "id": "silent-integral",
   "metadata": {},
   "outputs": [],
   "source": [
    "data_dir = 'plagiarism_data_mine'\n",
    "data_to_csv(train_x, train_y, file='train.csv', directory=data_dir)\n",
    "data_to_csv(test_x, test_y, file='test.csv', directory=data_dir)"
   ]
  },
  {
   "cell_type": "markdown",
   "id": "exciting-reflection",
   "metadata": {},
   "source": [
    "<br></br>\n",
    "## Training our model and deploying it with Amazon Sagemaker\n",
    "<br></br>"
   ]
  },
  {
   "cell_type": "code",
   "execution_count": 35,
   "id": "boring-being",
   "metadata": {},
   "outputs": [],
   "source": [
    "import sagemaker\n",
    "import boto3\n",
    "import os"
   ]
  },
  {
   "cell_type": "markdown",
   "id": "desperate-failing",
   "metadata": {},
   "source": [
    "As always, we should first define our Sagemaker session and role:\n",
    "* Session: The session class provides convenient methods for manipulating entities and resources that Sagemaker uses (i.e training jobs, endpoints, datasets)\n",
    "* Role: The role contains all the permissions that the user grants to Sagemaker to perform operation on his/her behalf"
   ]
  },
  {
   "cell_type": "code",
   "execution_count": 36,
   "id": "liberal-external",
   "metadata": {},
   "outputs": [],
   "source": [
    "session=sagemaker.Session()\n",
    "role=sagemaker.get_execution_role()"
   ]
  },
  {
   "cell_type": "markdown",
   "id": "viral-radius",
   "metadata": {},
   "source": [
    "In order to use our created datasets with Sagemaker, we should upload them to S3."
   ]
  },
  {
   "cell_type": "code",
   "execution_count": 37,
   "id": "requested-contest",
   "metadata": {},
   "outputs": [
    {
     "data": {
      "text/plain": [
       "'s3://sagemaker-us-east-1-095482984955/plagiarism_detection'"
      ]
     },
     "execution_count": 37,
     "metadata": {},
     "output_type": "execute_result"
    }
   ],
   "source": [
    "client=boto3.client('sagemaker')\n",
    "default_bucket=session.default_bucket()\n",
    "prefix='plagiarism_detection'\n",
    "path='plagiarism_data_mine'\n",
    "\n",
    "session.upload_data(path=path,key_prefix=prefix,bucket=default_bucket)"
   ]
  },
  {
   "cell_type": "markdown",
   "id": "radical-smith",
   "metadata": {},
   "source": [
    "Sagemaker has ML built-in algorithms but it is also possible to train a custom sklearn model. In this notebook we will use the latter.\n",
    "\n",
    "The documentation for using a custom scikit-learn model with Sagemaker Python SDK can be found in the following [link](https://sagemaker.readthedocs.io/en/stable/frameworks/sklearn/using_sklearn.html)\n",
    "\n",
    "To implement a custom sklearn algorithm, it is necessary to have a script that loads data, configures hyperparameters, trains a model, and saves the model artifacts."
   ]
  },
  {
   "cell_type": "code",
   "execution_count": 39,
   "id": "fifteen-publication",
   "metadata": {},
   "outputs": [],
   "source": [
    "from sagemaker.sklearn.estimator import SKLearn\n",
    "from custom_sklearn import sklearn_train"
   ]
  },
  {
   "cell_type": "code",
   "execution_count": 47,
   "id": "analyzed-leave",
   "metadata": {},
   "outputs": [
    {
     "name": "stdout",
     "output_type": "stream",
     "text": [
      "2021-03-29 02:37:21 Starting - Starting the training job...ProfilerReport-1616985441: InProgress\n",
      "...\n",
      "2021-03-29 02:38:05 Starting - Launching requested ML instances......\n",
      "2021-03-29 02:39:05 Starting - Preparing the instances for training.........\n",
      "2021-03-29 02:40:46 Downloading - Downloading input data...\n",
      "2021-03-29 02:41:21 Training - Training image download completed. Training in progress..\u001b[34m2021-03-29 02:41:21,599 sagemaker-containers INFO     Imported framework sagemaker_sklearn_container.training\u001b[0m\n",
      "\u001b[34m2021-03-29 02:41:21,602 sagemaker-training-toolkit INFO     No GPUs detected (normal if no gpus installed)\u001b[0m\n",
      "\u001b[34m2021-03-29 02:41:21,617 sagemaker_sklearn_container.training INFO     Invoking user training script.\u001b[0m\n",
      "\u001b[34m2021-03-29 02:41:21,978 sagemaker-training-toolkit INFO     No GPUs detected (normal if no gpus installed)\u001b[0m\n",
      "\u001b[34m2021-03-29 02:41:25,014 sagemaker-training-toolkit INFO     No GPUs detected (normal if no gpus installed)\u001b[0m\n",
      "\u001b[34m2021-03-29 02:41:25,028 sagemaker-training-toolkit INFO     No GPUs detected (normal if no gpus installed)\u001b[0m\n",
      "\u001b[34m2021-03-29 02:41:25,039 sagemaker-training-toolkit INFO     Invoking user script\n",
      "\u001b[0m\n",
      "\u001b[34mTraining Env:\n",
      "\u001b[0m\n",
      "\u001b[34m{\n",
      "    \"additional_framework_parameters\": {},\n",
      "    \"channel_input_dirs\": {\n",
      "        \"test\": \"/opt/ml/input/data/test\",\n",
      "        \"train\": \"/opt/ml/input/data/train\"\n",
      "    },\n",
      "    \"current_host\": \"algo-1\",\n",
      "    \"framework_module\": \"sagemaker_sklearn_container.training:main\",\n",
      "    \"hosts\": [\n",
      "        \"algo-1\"\n",
      "    ],\n",
      "    \"hyperparameters\": {\n",
      "        \"kernel\": \"poly\"\n",
      "    },\n",
      "    \"input_config_dir\": \"/opt/ml/input/config\",\n",
      "    \"input_data_config\": {\n",
      "        \"test\": {\n",
      "            \"TrainingInputMode\": \"File\",\n",
      "            \"S3DistributionType\": \"FullyReplicated\",\n",
      "            \"RecordWrapperType\": \"None\"\n",
      "        },\n",
      "        \"train\": {\n",
      "            \"TrainingInputMode\": \"File\",\n",
      "            \"S3DistributionType\": \"FullyReplicated\",\n",
      "            \"RecordWrapperType\": \"None\"\n",
      "        }\n",
      "    },\n",
      "    \"input_dir\": \"/opt/ml/input\",\n",
      "    \"is_master\": true,\n",
      "    \"job_name\": \"sagemaker-scikit-learn-2021-03-29-02-37-21-505\",\n",
      "    \"log_level\": 20,\n",
      "    \"master_hostname\": \"algo-1\",\n",
      "    \"model_dir\": \"/opt/ml/model\",\n",
      "    \"module_dir\": \"s3://sagemaker-us-east-1-095482984955/sagemaker-scikit-learn-2021-03-29-02-37-21-505/source/sourcedir.tar.gz\",\n",
      "    \"module_name\": \"sklearn_train\",\n",
      "    \"network_interface_name\": \"eth0\",\n",
      "    \"num_cpus\": 4,\n",
      "    \"num_gpus\": 0,\n",
      "    \"output_data_dir\": \"/opt/ml/output/data\",\n",
      "    \"output_dir\": \"/opt/ml/output\",\n",
      "    \"output_intermediate_dir\": \"/opt/ml/output/intermediate\",\n",
      "    \"resource_config\": {\n",
      "        \"current_host\": \"algo-1\",\n",
      "        \"hosts\": [\n",
      "            \"algo-1\"\n",
      "        ],\n",
      "        \"network_interface_name\": \"eth0\"\n",
      "    },\n",
      "    \"user_entry_point\": \"sklearn_train.py\"\u001b[0m\n",
      "\u001b[34m}\n",
      "\u001b[0m\n",
      "\u001b[34mEnvironment variables:\n",
      "\u001b[0m\n",
      "\u001b[34mSM_HOSTS=[\"algo-1\"]\u001b[0m\n",
      "\u001b[34mSM_NETWORK_INTERFACE_NAME=eth0\u001b[0m\n",
      "\u001b[34mSM_HPS={\"kernel\":\"poly\"}\u001b[0m\n",
      "\u001b[34mSM_USER_ENTRY_POINT=sklearn_train.py\u001b[0m\n",
      "\u001b[34mSM_FRAMEWORK_PARAMS={}\u001b[0m\n",
      "\u001b[34mSM_RESOURCE_CONFIG={\"current_host\":\"algo-1\",\"hosts\":[\"algo-1\"],\"network_interface_name\":\"eth0\"}\u001b[0m\n",
      "\u001b[34mSM_INPUT_DATA_CONFIG={\"test\":{\"RecordWrapperType\":\"None\",\"S3DistributionType\":\"FullyReplicated\",\"TrainingInputMode\":\"File\"},\"train\":{\"RecordWrapperType\":\"None\",\"S3DistributionType\":\"FullyReplicated\",\"TrainingInputMode\":\"File\"}}\u001b[0m\n",
      "\u001b[34mSM_OUTPUT_DATA_DIR=/opt/ml/output/data\u001b[0m\n",
      "\u001b[34mSM_CHANNELS=[\"test\",\"train\"]\u001b[0m\n",
      "\u001b[34mSM_CURRENT_HOST=algo-1\u001b[0m\n",
      "\u001b[34mSM_MODULE_NAME=sklearn_train\u001b[0m\n",
      "\u001b[34mSM_LOG_LEVEL=20\u001b[0m\n",
      "\u001b[34mSM_FRAMEWORK_MODULE=sagemaker_sklearn_container.training:main\u001b[0m\n",
      "\u001b[34mSM_INPUT_DIR=/opt/ml/input\u001b[0m\n",
      "\u001b[34mSM_INPUT_CONFIG_DIR=/opt/ml/input/config\u001b[0m\n",
      "\u001b[34mSM_OUTPUT_DIR=/opt/ml/output\u001b[0m\n",
      "\u001b[34mSM_NUM_CPUS=4\u001b[0m\n",
      "\u001b[34mSM_NUM_GPUS=0\u001b[0m\n",
      "\u001b[34mSM_MODEL_DIR=/opt/ml/model\u001b[0m\n",
      "\u001b[34mSM_MODULE_DIR=s3://sagemaker-us-east-1-095482984955/sagemaker-scikit-learn-2021-03-29-02-37-21-505/source/sourcedir.tar.gz\u001b[0m\n",
      "\u001b[34mSM_TRAINING_ENV={\"additional_framework_parameters\":{},\"channel_input_dirs\":{\"test\":\"/opt/ml/input/data/test\",\"train\":\"/opt/ml/input/data/train\"},\"current_host\":\"algo-1\",\"framework_module\":\"sagemaker_sklearn_container.training:main\",\"hosts\":[\"algo-1\"],\"hyperparameters\":{\"kernel\":\"poly\"},\"input_config_dir\":\"/opt/ml/input/config\",\"input_data_config\":{\"test\":{\"RecordWrapperType\":\"None\",\"S3DistributionType\":\"FullyReplicated\",\"TrainingInputMode\":\"File\"},\"train\":{\"RecordWrapperType\":\"None\",\"S3DistributionType\":\"FullyReplicated\",\"TrainingInputMode\":\"File\"}},\"input_dir\":\"/opt/ml/input\",\"is_master\":true,\"job_name\":\"sagemaker-scikit-learn-2021-03-29-02-37-21-505\",\"log_level\":20,\"master_hostname\":\"algo-1\",\"model_dir\":\"/opt/ml/model\",\"module_dir\":\"s3://sagemaker-us-east-1-095482984955/sagemaker-scikit-learn-2021-03-29-02-37-21-505/source/sourcedir.tar.gz\",\"module_name\":\"sklearn_train\",\"network_interface_name\":\"eth0\",\"num_cpus\":4,\"num_gpus\":0,\"output_data_dir\":\"/opt/ml/output/data\",\"output_dir\":\"/opt/ml/output\",\"output_intermediate_dir\":\"/opt/ml/output/intermediate\",\"resource_config\":{\"current_host\":\"algo-1\",\"hosts\":[\"algo-1\"],\"network_interface_name\":\"eth0\"},\"user_entry_point\":\"sklearn_train.py\"}\u001b[0m\n",
      "\u001b[34mSM_USER_ARGS=[\"--kernel\",\"poly\"]\u001b[0m\n",
      "\u001b[34mSM_OUTPUT_INTERMEDIATE_DIR=/opt/ml/output/intermediate\u001b[0m\n",
      "\u001b[34mSM_CHANNEL_TEST=/opt/ml/input/data/test\u001b[0m\n",
      "\u001b[34mSM_CHANNEL_TRAIN=/opt/ml/input/data/train\u001b[0m\n",
      "\u001b[34mSM_HP_KERNEL=poly\u001b[0m\n",
      "\u001b[34mPYTHONPATH=/opt/ml/code:/miniconda3/bin:/miniconda3/lib/python37.zip:/miniconda3/lib/python3.7:/miniconda3/lib/python3.7/lib-dynload:/miniconda3/lib/python3.7/site-packages\n",
      "\u001b[0m\n",
      "\u001b[34mInvoking script with the following command:\n",
      "\u001b[0m\n",
      "\u001b[34m/miniconda3/bin/python sklearn_train.py --kernel poly\n",
      "\n",
      "\u001b[0m\n",
      "\u001b[34m2021-03-29 02:41:26,430 sagemaker-containers INFO     Reporting training SUCCESS\u001b[0m\n",
      "\n",
      "2021-03-29 02:41:52 Uploading - Uploading generated training model\n",
      "2021-03-29 02:42:06 Completed - Training job completed\n",
      "Training seconds: 93\n",
      "Billable seconds: 93\n",
      "CPU times: user 840 ms, sys: 24 ms, total: 864 ms\n",
      "Wall time: 5min 13s\n"
     ]
    }
   ],
   "source": [
    "%%time\n",
    "\n",
    "#training the model\n",
    "estimator=SKLearn(entry_point='custom_sklearn/sklearn_train.py',\n",
    "                 instance_type='ml.m4.xlarge',\n",
    "                  framework_version='0.23-1',\n",
    "                py_version='py3',\n",
    "                 hyperparameters={'kernel':'poly'},\n",
    "                 role=role)\n",
    "estimator.fit({'train':'s3://sagemaker-us-east-1-095482984955/plagiarism_detection/train.csv','test':'s3://sagemaker-us-east-1-095482984955/plagiarism_detection/test.csv'})"
   ]
  },
  {
   "cell_type": "code",
   "execution_count": 48,
   "id": "persistent-defendant",
   "metadata": {},
   "outputs": [
    {
     "name": "stdout",
     "output_type": "stream",
     "text": [
      "-------------------!"
     ]
    }
   ],
   "source": [
    "#deploying the model to test\n",
    "predictor = estimator.deploy(initial_instance_count=1,instance_type='ml.t2.medium')"
   ]
  },
  {
   "cell_type": "code",
   "execution_count": 49,
   "id": "individual-yugoslavia",
   "metadata": {},
   "outputs": [],
   "source": [
    "test_data = pd.read_csv(os.path.join(data_dir, \"test.csv\"), header=None, names=None)\n",
    "test_y = test_data.iloc[:,0]\n",
    "test_x = test_data.iloc[:,1:]"
   ]
  },
  {
   "cell_type": "code",
   "execution_count": 50,
   "id": "honey-haven",
   "metadata": {},
   "outputs": [
    {
     "name": "stdout",
     "output_type": "stream",
     "text": [
      "Accuracy of the model in the test set: 1.0\n"
     ]
    }
   ],
   "source": [
    "from sklearn.metrics import accuracy_score\n",
    "test_y_preds = predictor.predict(test_x)\n",
    "accuracy = accuracy_score(test_y,test_y_preds)\n",
    "print(\"Accuracy of the model in the test set: {}\".format(accuracy))"
   ]
  },
  {
   "cell_type": "code",
   "execution_count": 51,
   "id": "adequate-balance",
   "metadata": {},
   "outputs": [
    {
     "ename": "NameError",
     "evalue": "name 'bucket' is not defined",
     "output_type": "error",
     "traceback": [
      "\u001b[0;31m---------------------------------------------------------------------------\u001b[0m",
      "\u001b[0;31mNameError\u001b[0m                                 Traceback (most recent call last)",
      "\u001b[0;32m<ipython-input-51-a9067610519e>\u001b[0m in \u001b[0;36m<module>\u001b[0;34m\u001b[0m\n\u001b[1;32m      1\u001b[0m \u001b[0mpredictor\u001b[0m\u001b[0;34m.\u001b[0m\u001b[0mdelete_endpoint\u001b[0m\u001b[0;34m(\u001b[0m\u001b[0;34m)\u001b[0m\u001b[0;34m\u001b[0m\u001b[0;34m\u001b[0m\u001b[0m\n\u001b[0;32m----> 2\u001b[0;31m \u001b[0mbucket_to_delete\u001b[0m \u001b[0;34m=\u001b[0m \u001b[0mboto3\u001b[0m\u001b[0;34m.\u001b[0m\u001b[0mresource\u001b[0m\u001b[0;34m(\u001b[0m\u001b[0;34m's3'\u001b[0m\u001b[0;34m)\u001b[0m\u001b[0;34m.\u001b[0m\u001b[0mBucket\u001b[0m\u001b[0;34m(\u001b[0m\u001b[0mbucket\u001b[0m\u001b[0;34m)\u001b[0m\u001b[0;34m\u001b[0m\u001b[0;34m\u001b[0m\u001b[0m\n\u001b[0m\u001b[1;32m      3\u001b[0m \u001b[0mbucket_to_delete\u001b[0m\u001b[0;34m.\u001b[0m\u001b[0mobjects\u001b[0m\u001b[0;34m.\u001b[0m\u001b[0mall\u001b[0m\u001b[0;34m(\u001b[0m\u001b[0;34m)\u001b[0m\u001b[0;34m.\u001b[0m\u001b[0mdelete\u001b[0m\u001b[0;34m(\u001b[0m\u001b[0;34m)\u001b[0m\u001b[0;34m\u001b[0m\u001b[0;34m\u001b[0m\u001b[0m\n",
      "\u001b[0;31mNameError\u001b[0m: name 'bucket' is not defined"
     ]
    }
   ],
   "source": [
    "predictor.delete_endpoint()\n",
    "bucket_to_delete = boto3.resource('s3').Bucket(bucket)\n",
    "bucket_to_delete.objects.all().delete()"
   ]
  },
  {
   "cell_type": "code",
   "execution_count": null,
   "id": "least-beverage",
   "metadata": {},
   "outputs": [],
   "source": []
  },
  {
   "cell_type": "code",
   "execution_count": null,
   "id": "closing-pontiac",
   "metadata": {},
   "outputs": [],
   "source": []
  }
 ],
 "metadata": {
  "kernelspec": {
   "display_name": "conda_mxnet_p36",
   "language": "python",
   "name": "conda_mxnet_p36"
  },
  "language_info": {
   "codemirror_mode": {
    "name": "ipython",
    "version": 3
   },
   "file_extension": ".py",
   "mimetype": "text/x-python",
   "name": "python",
   "nbconvert_exporter": "python",
   "pygments_lexer": "ipython3",
   "version": "3.6.13"
  }
 },
 "nbformat": 4,
 "nbformat_minor": 5
}
